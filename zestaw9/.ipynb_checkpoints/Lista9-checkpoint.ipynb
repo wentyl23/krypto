{
 "cells": [
  {
   "cell_type": "markdown",
   "metadata": {},
   "source": [
    "# Lista 9 (9 pkt.)"
   ]
  },
  {
   "cell_type": "code",
   "execution_count": 3,
   "metadata": {},
   "outputs": [],
   "source": [
    "import numpy as np\n",
    "import hashlib\n",
    "import matplotlib.pyplot as plt\n",
    "import random"
   ]
  },
  {
   "cell_type": "markdown",
   "metadata": {},
   "source": [
    "## Zadanie 1 (1 pkt.)"
   ]
  },
  {
   "cell_type": "markdown",
   "metadata": {},
   "source": [
    "Wczytaj dwa obrazki: 'Campin_Boze_Narodzenie1.png' oraz 'Campin_Boze_Narodzenie2.png' jeden z nich jest zgodny z oryginałem obrazu Roberta Campin a drugi jest lekko zmodyfikowany, rozponaj prawdziwy obraz obliczając jego funkcję skrótu SHA-256 i porównując ją do skrótu podanego poniżej (w postaci szesnastkowej), który odpowiada oryginałowi:"
   ]
  },
  {
   "cell_type": "code",
   "execution_count": 4,
   "metadata": {},
   "outputs": [],
   "source": [
    "hash_original='2d08246bbb3a8f6b0c16b8d8effd2c783233a6a174496731dfff887bb41bc7e7'"
   ]
  },
  {
   "cell_type": "markdown",
   "metadata": {},
   "source": [
    "Obrazek wczytaj za pomocą:"
   ]
  },
  {
   "cell_type": "code",
   "execution_count": 5,
   "metadata": {},
   "outputs": [],
   "source": [
    "file = open('Campin_Boze_Narodzenie1.png','rb')\n",
    "obraz1=file.read()\n",
    "file.close()"
   ]
  },
  {
   "cell_type": "code",
   "execution_count": 6,
   "metadata": {},
   "outputs": [],
   "source": [
    "hash1 = hashlib.sha256(obraz1).hexdigest()"
   ]
  },
  {
   "cell_type": "code",
   "execution_count": 7,
   "metadata": {},
   "outputs": [],
   "source": [
    "file = open('Campin_Boze_Narodzenie2.png','rb')\n",
    "obraz1=file.read()\n",
    "file.close()"
   ]
  },
  {
   "cell_type": "code",
   "execution_count": 8,
   "metadata": {},
   "outputs": [],
   "source": [
    "hash2 = hashlib.sha256(obraz1).hexdigest()"
   ]
  },
  {
   "cell_type": "code",
   "execution_count": 9,
   "metadata": {},
   "outputs": [
    {
     "name": "stdout",
     "output_type": "stream",
     "text": [
      "True\n",
      "False\n"
     ]
    }
   ],
   "source": [
    "print(hash1==hash_original)\n",
    "print(hash2==hash_original)"
   ]
  },
  {
   "cell_type": "markdown",
   "metadata": {},
   "source": [
    "'rb' w powyższej funkcji oznacza, że odczytujemy binarną postać obrazu. Podobnie wczytaj drugi obraz. Do policzenia funkcji skrótu użyj biblioteki hashlib: https://docs.python.org/3/library/hashlib.html"
   ]
  },
  {
   "cell_type": "markdown",
   "metadata": {},
   "source": [
    "## Zadanie 2 (2 pkt.)"
   ]
  },
  {
   "cell_type": "markdown",
   "metadata": {},
   "source": [
    "Zaimplementuj funkcję $rho\\_pollard()$ znajdującą kolizje w funkcji skrótu za pomocą agorytmu rho Pollarda. Wypisz przykładowe pary argumentów, które mają taki sam skrót dla funkcji $simple\\_hash()$, która przyjmuje liczbę zapisaną szesnastkowo w postaci stringu i zwraca hash w postaci stringu z zapisem szesnastkowym."
   ]
  },
  {
   "cell_type": "code",
   "execution_count": 10,
   "metadata": {},
   "outputs": [],
   "source": [
    "def simple_hash(str):\n",
    "    m = hashlib.sha256()\n",
    "    m.update(bytes(int(str,16)))\n",
    "    return m.hexdigest()[:2]"
   ]
  },
  {
   "cell_type": "code",
   "execution_count": 11,
   "metadata": {},
   "outputs": [],
   "source": [
    "#"
   ]
  },
  {
   "cell_type": "code",
   "execution_count": 28,
   "metadata": {},
   "outputs": [],
   "source": [
    "def rho_pollard(N):\n",
    "    t=\"\".join([random.choice('0123456789abcdef') for i in range(2)])\n",
    "    h=simple_hash(t)\n",
    "    h_prim = h\n",
    "    collision=-1\n",
    "    prev_h=h\n",
    "    for i in range(N):\n",
    "        prev_h=h\n",
    "        prev_h_prim = h_prim\n",
    "        h=simple_hash(h)\n",
    "        temp=simple_hash(h_prim)\n",
    "        h_prim=simple_hash(temp)\n",
    "        print(\"h={}, hash(h)={}\".format(prev_h, h))\n",
    "        print(\"h'={}, hash(h')={}, hash(hash(h'))={}\".format(prev_h_prim, temp, h_prim))\n",
    "        print()\n",
    "        if (h==h_prim):\n",
    "            collision=i\n",
    "            break\n",
    "    return collision"
   ]
  },
  {
   "cell_type": "code",
   "execution_count": 29,
   "metadata": {},
   "outputs": [
    {
     "name": "stdout",
     "output_type": "stream",
     "text": [
      "h=3e, hash(h)=1e\n",
      "h'=3e, hash(h')=1e, hash(hash(h'))=06\n",
      "\n",
      "h=1e, hash(h)=06\n",
      "h'=06, hash(h')=b0, hash(hash(h'))=86\n",
      "\n",
      "h=06, hash(h)=b0\n",
      "h'=86, hash(h')=e7, hash(hash(h'))=14\n",
      "\n",
      "h=b0, hash(h)=86\n",
      "h'=14, hash(h')=de, hash(hash(h'))=12\n",
      "\n",
      "h=86, hash(h)=e7\n",
      "h'=12, hash(h')=60, hash(hash(h'))=2e\n",
      "\n",
      "h=e7, hash(h)=14\n",
      "h'=2e, hash(h')=87, hash(hash(h'))=41\n",
      "\n",
      "h=14, hash(h)=de\n",
      "h'=41, hash(h')=98, hash(hash(h'))=85\n",
      "\n",
      "h=de, hash(h)=12\n",
      "h'=85, hash(h')=57, hash(hash(h'))=69\n",
      "\n",
      "h=12, hash(h)=60\n",
      "h'=69, hash(h')=52, hash(hash(h'))=10\n",
      "\n",
      "h=60, hash(h)=2e\n",
      "h'=10, hash(h')=37, hash(hash(h'))=02\n",
      "\n",
      "h=2e, hash(h)=87\n",
      "h'=02, hash(h')=96, hash(hash(h'))=1d\n",
      "\n",
      "h=87, hash(h)=41\n",
      "h'=1d, hash(h')=11, hash(hash(h'))=0a\n",
      "\n",
      "h=41, hash(h)=98\n",
      "h'=0a, hash(h')=01, hash(hash(h'))=6e\n",
      "\n",
      "h=98, hash(h)=85\n",
      "h'=6e, hash(h')=f2, hash(hash(h'))=fd\n",
      "\n",
      "h=85, hash(h)=57\n",
      "h'=fd, hash(h')=7c, hash(hash(h'))=7b\n",
      "\n",
      "h=57, hash(h)=69\n",
      "h'=7b, hash(h')=40, hash(hash(h'))=f5\n",
      "\n",
      "h=69, hash(h)=52\n",
      "h'=f5, hash(h')=02, hash(hash(h'))=96\n",
      "\n",
      "h=52, hash(h)=10\n",
      "h'=96, hash(h')=1d, hash(hash(h'))=11\n",
      "\n",
      "h=10, hash(h)=37\n",
      "h'=11, hash(h')=0a, hash(hash(h'))=01\n",
      "\n",
      "h=37, hash(h)=02\n",
      "h'=01, hash(h')=6e, hash(hash(h'))=f2\n",
      "\n",
      "h=02, hash(h)=96\n",
      "h'=f2, hash(h')=fd, hash(hash(h'))=7c\n",
      "\n",
      "h=96, hash(h)=1d\n",
      "h'=7c, hash(h')=7b, hash(hash(h'))=40\n",
      "\n",
      "h=1d, hash(h)=11\n",
      "h'=40, hash(h')=f5, hash(hash(h'))=02\n",
      "\n",
      "h=11, hash(h)=0a\n",
      "h'=02, hash(h')=96, hash(hash(h'))=1d\n",
      "\n",
      "h=0a, hash(h)=01\n",
      "h'=1d, hash(h')=11, hash(hash(h'))=0a\n",
      "\n",
      "h=01, hash(h)=6e\n",
      "h'=0a, hash(h')=01, hash(hash(h'))=6e\n",
      "\n",
      "25\n",
      "\n"
     ]
    }
   ],
   "source": [
    "for i in range(1):\n",
    "    print(rho_pollard(256))\n",
    "    print()"
   ]
  },
  {
   "cell_type": "code",
   "execution_count": 30,
   "metadata": {},
   "outputs": [
    {
     "name": "stdout",
     "output_type": "stream",
     "text": [
      "True\n"
     ]
    }
   ],
   "source": [
    "print(simple_hash('f5')==simple_hash('37'))"
   ]
  },
  {
   "cell_type": "markdown",
   "metadata": {},
   "source": [
    "## Zadanie 3 (2 pkt.)"
   ]
  },
  {
   "cell_type": "markdown",
   "metadata": {},
   "source": [
    "Napisz funkcję $HMAC(K,M)$, która przyjmuje klucz oraz wiadomość a zwraca kod HMAC, wszystko w postaci stringu bitów. Funkcja $hash()$ to funkcja SHA256 ale przyjmująca i zwracająca dane w postaci stringu bitów. Przyjmij długość bloku 64 bity (przypadek DESa)."
   ]
  },
  {
   "cell_type": "code",
   "execution_count": 138,
   "metadata": {},
   "outputs": [],
   "source": [
    "def bin2dec(bin_str):\n",
    "    return int(bin_str, 2)\n",
    "\n",
    "def dec2bin(dec_str,pad=0):\n",
    "    padding = '{0:0' + str(pad) + 'b}'\n",
    "    bin_string = padding.format(dec_str)\n",
    "    return bin_string\n",
    "    \n",
    "def xor(bin_str1,bin_str2):\n",
    "    length = len(bin_str1)\n",
    "    int1 = bin2dec(bin_str1)\n",
    "    int2 = bin2dec(bin_str2)\n",
    "    return dec2bin(int1^int2,length)"
   ]
  },
  {
   "cell_type": "code",
   "execution_count": 139,
   "metadata": {},
   "outputs": [],
   "source": [
    "def hash(i):\n",
    "    m = hashlib.sha256()\n",
    "    m.update(int(i,2).to_bytes(len(i),'little'))\n",
    "    return format(int(m.hexdigest(),16),'0256b')"
   ]
  },
  {
   "cell_type": "code",
   "execution_count": 140,
   "metadata": {},
   "outputs": [],
   "source": [
    "def HMAC(K,M):\n",
    "    l = 64\n",
    "    pad = int(64/8)\n",
    "    opad = f'{0x5c:0>8b}' * pad\n",
    "    ipad = f'{0x36:0>8b}' * pad\n",
    "    result = hash(xor(K,opad) + hash(xor(K,ipad) + M))\n",
    "    return result"
   ]
  },
  {
   "cell_type": "code",
   "execution_count": 141,
   "metadata": {},
   "outputs": [
    {
     "name": "stdout",
     "output_type": "stream",
     "text": [
      "64\n"
     ]
    }
   ],
   "source": [
    "print(len('0010111000111100100000001100001000110000100011001110011110010000'))"
   ]
  },
  {
   "cell_type": "code",
   "execution_count": 142,
   "metadata": {},
   "outputs": [],
   "source": [
    "# def hash(i):\n",
    "#     m = hashlib.sha256()\n",
    "#     m.update(i.to_bytes())\n",
    "#     return int(m.hexdigest(),16)"
   ]
  },
  {
   "cell_type": "code",
   "execution_count": 143,
   "metadata": {},
   "outputs": [
    {
     "name": "stdout",
     "output_type": "stream",
     "text": [
      "True\n",
      "True\n",
      "True\n"
     ]
    }
   ],
   "source": [
    "print(HMAC('0010111000111100100000001100001000110000100011001110011110010000','0100011001010010011011010100100100011101011101111011010000101010')\n",
    "    == '1101011010010010001001010001100000001011000100001100101110111010000001000000110000001111011111110101011101111010110111001111001001001010000011110101110101010000100011110100101000111001000111000011111000011111001001110000110001111100110011110010100110000100')\n",
    "print(HMAC('1000110000100011001111011101000000010001110101110011101011000110','1100110101011010110010110011001001010000000000111000011011000011')\n",
    "    == '0100010101000110011101000100111010101111011110001010001001011000010001011100010100000000010010110000100010010101011011000010111000001110000101100011101100111111001000101101110011101100001111000000011111011111100001010111010011010010101100010101011100111010')\n",
    "print(HMAC('0010100101111010101111100000101110110001011111100101000010001010','1110001110111101101100001010001110011101011111101010110011000000')\n",
    "    == '1101010101011101110011000000111100111100100100011001011000001011101001100011011011010100110100010110101100000011010100000100111100111111100001110100000100100111100011111011000110101010000101110001110111101110011001000010001001001010010011000000111000011111')"
   ]
  },
  {
   "cell_type": "markdown",
   "metadata": {},
   "source": [
    "Zmienne $msg\\_enc1$ oraz $msg\\_enc2$ zawierają dwie wiadomości. Jedna z nich jest poprawna druga ma zmieniony jeden bit. Wiemy, że wiadomośc zaszyfrowano za pomocą DESa z kluczem $key$ i nadawca dodał do niej kod HMAC zawarty w zmiennej $hmac$. Sprawdź, która z otrzymanych wiadomości jest poprawna."
   ]
  },
  {
   "cell_type": "code",
   "execution_count": 144,
   "metadata": {},
   "outputs": [],
   "source": [
    "msg_enc1 = '0110011010100110101010011000011111010000110111011011110110110101'\n",
    "msg_enc2 = '0110011010100110101010011000011111010000110111010011110110110101'\n",
    "key = '0001101100001110010010101101001101101010000100100000100001101100'"
   ]
  },
  {
   "cell_type": "code",
   "execution_count": 145,
   "metadata": {},
   "outputs": [],
   "source": [
    "hmac = '1010011101011000110010101011100100001001110111010000110100110111001001110010001101001010000011010001001101010100000010100111110010101011001101001010101100110110000101101110100000010001101011011011110011110111011100110000011010110001110000011000011100101001'"
   ]
  },
  {
   "cell_type": "code",
   "execution_count": 146,
   "metadata": {},
   "outputs": [
    {
     "name": "stdout",
     "output_type": "stream",
     "text": [
      "True\n",
      "False\n"
     ]
    }
   ],
   "source": [
    "print(HMAC(key,msg_enc1)==hmac)\n",
    "print(HMAC(key,msg_enc2)==hmac)"
   ]
  },
  {
   "cell_type": "markdown",
   "metadata": {},
   "source": [
    "## Zadanie 4 (2 pkt.)"
   ]
  },
  {
   "cell_type": "code",
   "execution_count": 182,
   "metadata": {},
   "outputs": [],
   "source": [
    "def inv(p,n):\n",
    "    s=0\n",
    "    t=1\n",
    "    old_s=1\n",
    "    old_t=0\n",
    "    while(n > 0):\n",
    "        r = p//n\n",
    "        m = p%n\n",
    "        new_s = s - old_s * r\n",
    "        new_t = t - old_t * r\n",
    "        p,n = n,m\n",
    "        s,t = old_s, old_t\n",
    "        old_s, old_t = new_s, new_t\n",
    "    if(t<0):\n",
    "        return t+new_t \n",
    "    return t\n",
    "\n",
    "\n",
    "def pow_mod(x,n,m):\n",
    "    bin_n = dec2bin(n)\n",
    "    p=1\n",
    "    for b in bin_n:\n",
    "        p=(p*p)%m\n",
    "        if b == '1':\n",
    "            p=(p*x)%m\n",
    "    return p\n",
    "\n",
    "def key_gen(p,q):\n",
    "    n=p*q\n",
    "    fi = (q-1)*(p-1)\n",
    "    e=65537\n",
    "    d=inv(e, fi)\n",
    "    return (n,e,d)\n",
    "\n",
    "def enc(x,e,n):\n",
    "    x = int(x,16)\n",
    "    y = pow_mod(x,e,n)\n",
    "    return dec2hex(y)\n",
    "\n",
    "def dec(y,d,n):\n",
    "    y = int(y,16)\n",
    "    x = pow_mod(y,d,n)\n",
    "    return dec2hex(x)\n",
    "\n",
    "def dec2hex(dec, pad=0):\n",
    "    res = hex(dec).replace(\"x\",\"\")\n",
    "    res = res.lstrip('0')\n",
    "    res = res.zfill(pad)\n",
    "    return res\n"
   ]
  },
  {
   "cell_type": "markdown",
   "metadata": {},
   "source": [
    "Napisz funkcję $sign(file\\_name, e, n)$ generującą podpis elektroniczny pliku, gdzie $file\\_name$ to nazwa pliku, $e$ i $n$ to klucz prywatny algorymtu RSA, oznaczenia jak na liście 7., funkcja ma zwracać podpis w postaci stringu z zapisem szesnastkowym."
   ]
  },
  {
   "cell_type": "code",
   "execution_count": 183,
   "metadata": {},
   "outputs": [],
   "source": [
    "def sign(file_name, e, n):\n",
    "    file = open(file_name,'rb')\n",
    "    f=file.read()\n",
    "    file.close()\n",
    "    hash_f = hashlib.sha256(f).hexdigest()\n",
    "    return enc(hash_f,e,n)\n",
    "    "
   ]
  },
  {
   "cell_type": "markdown",
   "metadata": {},
   "source": [
    "Napisz funkcję $check\\_sign(file\\_name, d, n, sign)$ weryfikującą autentyczność podpisu, gdzie $file\\_name$ to nazwa pliku $d$ i $n$ to klucz publiczny autora podpisu a $sign$ to podpis, funkcja ma zwracać $True$ lub $False$."
   ]
  },
  {
   "cell_type": "code",
   "execution_count": 188,
   "metadata": {},
   "outputs": [],
   "source": [
    "def check_sign(file_name, d, n, sign):\n",
    "    file = open(file_name,'rb')\n",
    "    f=file.read()\n",
    "    file.close()\n",
    "    hash_f = hashlib.sha256(f).hexdigest()\n",
    "    decrypted = dec(sign,d,n)\n",
    "    return hash_f==decrypted"
   ]
  },
  {
   "cell_type": "markdown",
   "metadata": {},
   "source": [
    "Wygeneruj klucze RSA z liczb pierwszych $p$ i $q$ i użyj ich w testach."
   ]
  },
  {
   "cell_type": "code",
   "execution_count": 189,
   "metadata": {},
   "outputs": [],
   "source": [
    "p=24130780476900131841553779066939443255102203937160657723394451174808141403858935238883126295228560935516885174421847238379397184900972008801015315248328437\n",
    "q=26660613491521684005574100352062919789979599401844483402246984186988668019447679726081352452799126206997555710356464145743285983450292024894053538317854159"
   ]
  },
  {
   "cell_type": "code",
   "execution_count": 190,
   "metadata": {},
   "outputs": [],
   "source": [
    "n,e,d = key_gen(p,q)"
   ]
  },
  {
   "cell_type": "code",
   "execution_count": 191,
   "metadata": {},
   "outputs": [
    {
     "name": "stdout",
     "output_type": "stream",
     "text": [
      "True\n",
      "True\n"
     ]
    }
   ],
   "source": [
    "print(sign('correlation.png',e,n)=='1d5e7cd47f75b13159a37c8ffb3ba7d9f43a21f4758ae06e856da0a468fd1772f7b8b52d0f948fd02610e0e05a54c0fff12d7bd27575583cfdf53b124e9c0e95df1de156aa0af52239f1329ab69000b4a6a61d3d45f190c4b9df4ca4b7d30904162727353a8fb09c9faf847eeb0f6f65394d92cb57ced2cdcff36c444394e3fff')\n",
    "print(sign('Campin_Boze_Narodzenie1.png',e,n)=='1c6097177871bb4873fcd0ae658d28f46fcc54e4b0e595954a57c0008f8b86c7427cecf28296240025941fe2a019b80fcc5f43c4cae6b1d2163cecf8438336d3da6e33ae326dfa2c0e5ea7bbad511dd140bc7b0cd34829623bfd02bc66bc9b43d57443b7fd950bea5cb5f5df99d8611eeb0d4458b19809e3ff86abf6538c3e453')"
   ]
  },
  {
   "cell_type": "code",
   "execution_count": 192,
   "metadata": {},
   "outputs": [
    {
     "name": "stdout",
     "output_type": "stream",
     "text": [
      "True\n",
      "True\n",
      "True\n",
      "True\n"
     ]
    }
   ],
   "source": [
    "print(check_sign('correlation.png',d,n,'1d5e7cd47f75b13159a37c8ffb3ba7d9f43a21f4758ae06e856da0a468fd1772f7b8b52d0f948fd02610e0e05a54c0fff12d7bd27575583cfdf53b124e9c0e95df1de156aa0af52239f1329ab69000b4a6a61d3d45f190c4b9df4ca4b7d30904162727353a8fb09c9faf847eeb0f6f65394d92cb57ced2cdcff36c444394e3fff')==True)\n",
    "print(check_sign('correlation.png',d,n,'1d5e7cd47f75b13159a37c8ffb3ba7d9f43a21f4758ae06e856ba0a468fd1772f7b8b52d0f948fd02610e0e05a54c0fff12d7bd27575583cfdf53b124e9c0e95df1de156aa0af52239f1329ab69000b4a6a61d3d45f190c4b9df4ca4b7d30904162727353a8fb09c9faf847eeb0f6f65394d92cb57ced2cdcff36c444394e3fff')==False)\n",
    "print(check_sign('Campin_Boze_Narodzenie1.png',d,n,'1c6097177871bb4873fcd0ae658d28f46fcc54e4b0e595954a57c0008f8b86c7427cecf28296240025941fe2a019b80fcc5f43c4cae6b1d2163cecf8438336d3da6e33ae326dfa2c0e5ea7bbad511dd140bc7b0cd34829623bfd02bc66bc9b43d57443b7fd950bea5cb5f5df99d8611eeb0d4458b19809e3ff86abf6538c3e453')==True)\n",
    "print(check_sign('Campin_Boze_Narodzenie1.png',d,n,'1c6097177871bb4873fcd0ae658d28f46fec54e4b0e595954a57c0008f8b86c7427cecf28296240025941fe2a019b80fcc5f43c4cae6b1d2163cecf8438336d3da6e33ae326dfa2c0e5ea7bbad511dd140bc7b0cd34829623bfd02bc66bc9b43d57443b7fd950bea5cb5f5df99d8611eeb0d4458b19809e3ff86abf6538c3e453')==False)"
   ]
  },
  {
   "cell_type": "markdown",
   "metadata": {},
   "source": [
    "## Zadanie 5 (2 pkt.)"
   ]
  },
  {
   "cell_type": "markdown",
   "metadata": {},
   "source": [
    "\"Kopanie\" Bitcoina polega w uproszczeniu na szukaniu liczby dla której funkcja skrótu zwraca wartość mniejszą niż pewien próg, tzn. wartośc funkcji skrótu musi zaczynać się odpowiednią liczbą zer w zapisie bitowym. Jako, że funkcja skrótu ma właściwości pseudolosowe, szukamy tej liczby sprawdzając po kolei wszystkie liczby. Napisz funkcję $mine(d)$, szukającą takiej liczby $i$ dla której $SHA256(i)$ zaczyna się w zapisie bitowym $d$ zerami. Podstawiaj kolejno liczby $0,1,2,3,...$. Funkcja ma zwracać liczbę dla której udało się spełnić warunek.\n",
    "\n",
    "Uwaga: aby podać zmienną typu $int$ jako argument do hashlib.sha256() należy przekonwerstować ją za pomocą $bytes()$"
   ]
  },
  {
   "cell_type": "code",
   "execution_count": 137,
   "metadata": {},
   "outputs": [],
   "source": [
    "def mine(diff):\n",
    "    \n",
    "    pass"
   ]
  },
  {
   "cell_type": "markdown",
   "metadata": {},
   "source": [
    "Wykonaj funkcję $mine(d)$ dla kilkunastu wartości $d$ i narysuj wykres $plt.scatter()$ zależności $i(d)$.\n",
    "\n",
    "Uwaga: użyj skali logarytmicznej $plt.yscale('symlog')$.\n",
    "\n",
    "Zastanów się ile teoretycznie (średnio) należy wykonać prób aby znaleźć funkcję skrótu z $d$ zerami na początku. Narysuj na wykresie linię obrazującą tą zależność i porównaj z punktami uzyskanymi z funkcji $mine()$.\n",
    "\n",
    "Powtórz pomiary, ale zamiast brać kolejne liczby, bierz losowe. Sprawdź czy daje to lepsze rezultaty."
   ]
  }
 ],
 "metadata": {
  "kernelspec": {
   "display_name": "Python 3 (ipykernel)",
   "language": "python",
   "name": "python3"
  },
  "language_info": {
   "codemirror_mode": {
    "name": "ipython",
    "version": 3
   },
   "file_extension": ".py",
   "mimetype": "text/x-python",
   "name": "python",
   "nbconvert_exporter": "python",
   "pygments_lexer": "ipython3",
   "version": "3.8.12"
  }
 },
 "nbformat": 4,
 "nbformat_minor": 4
}
