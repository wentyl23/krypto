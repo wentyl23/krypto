{
  "nbformat": 4,
  "nbformat_minor": 0,
  "metadata": {
    "kernelspec": {
      "display_name": "Python 3 (ipykernel)",
      "language": "python",
      "name": "python3"
    },
    "language_info": {
      "codemirror_mode": {
        "name": "ipython",
        "version": 3
      },
      "file_extension": ".py",
      "mimetype": "text/x-python",
      "name": "python",
      "nbconvert_exporter": "python",
      "pygments_lexer": "ipython3",
      "version": "3.9.7"
    },
    "colab": {
      "name": "Lista4.ipynb",
      "provenance": []
    }
  },
  "cells": [
    {
      "cell_type": "markdown",
      "metadata": {
        "id": "HYpoAICBY4LI"
      },
      "source": [
        "# Lista 4 (11 pkt.)"
      ]
    },
    {
      "cell_type": "code",
      "metadata": {
        "id": "4LfK8aZYY4LW"
      },
      "source": [
        "import numpy as np"
      ],
      "execution_count": null,
      "outputs": []
    },
    {
      "cell_type": "markdown",
      "metadata": {
        "id": "BwYUMyzUY4Le"
      },
      "source": [
        "Ciało Galois (ciało skończone) $GF(p^n)$ ma $p^n$ elementów gdzie $p$ jest liczbą pierwszą a $n$ liczbą naturalną. W ciałach $GF(p)=\\{0,1,...,p-1\\}$ dodawanie ($\\oplus$) i mnożenie ($\\odot$) są zdefiniowane jako zwykłe dodawanie ($+$) i mnożenie ($\\cdot$) liczb całkowitych modulo $p$.\n",
        "\n",
        "$$a,b\\in GF(p)$$\n",
        "\n",
        "$$a\\oplus b=a+b\\mod p$$\n",
        "\n",
        "$$a\\odot b=a \\cdot b\\mod p$$\n",
        "\n",
        "W ciałach $GF(p^n)$ elementy ciała możemy traktować jako wielomiany stopnia $n-1$ o współczynnikach z ciała $GF(p)$:\n",
        "\n",
        "$$a\\in GF(p^n)$$\n",
        "\n",
        "$$a=c_{n-1}x^{n-1}+c_{n-2}x^{n-2}+...+c_1x+c_0$$\n",
        "\n",
        "$$c_k\\in GF(p)$$\n",
        "\n",
        "Spójrzmy na przypadek, który nas najbardziej interesuje czyli ciala $GF(2^n)$.\n",
        "\n",
        "Ciało $GF(2)=\\{0,1\\}$ jest ciałem dwu elemntowym, z działaniami\n",
        "\n",
        "$0\\oplus0=0$, $0\\oplus1=1$, $1\\oplus1=0$,\n",
        "\n",
        "$0\\odot0=0$, $0\\odot1=0$, $1\\odot1=1$.\n",
        "\n",
        "Zatem cialo $GF(2^n)$ zawiera wielomiany o wspólczynnikach $0$ i $1$, np. ciało $GF(2^3)$ zawiera 8 elementów:\n",
        "\n",
        "$1$, $x$, $x+1$, $x^2$, $x^2+1$, $x^2+x$, $x^2+x+1$,\n",
        "\n",
        "elementy te możemy reprezentować jako ciąg bitów, określający współczynnki w wielomianie, tzn.\n",
        "\n",
        "$1=001$, $x=010$, $x+1=011$, $x^2=100$, $x^2+1=101$, $x^2+x=110$, $x^2+x+1=111$.\n",
        "\n",
        "W poniższych zadaniach będzie trzeba zaimplementować działania w ciele $GF(2^n)$."
      ]
    },
    {
      "cell_type": "markdown",
      "metadata": {
        "id": "7FmX2kx3Y4Lj"
      },
      "source": [
        "## Zadanie 1 (1 pkt.)"
      ]
    },
    {
      "cell_type": "markdown",
      "metadata": {
        "id": "vSO4HhkMY4Lk"
      },
      "source": [
        "Dodawanie w ciele $GF(p^n)$ jest zdefiniowane jako zwykłe dodawanie wielomianów, z tym że wspóczynniki dodają się zgodnie z regułami z ciała $GF(p)$. Zatem w przypadku ciała $GF(2^n)$ dodawnie wyglada na przykład tak:\n",
        "\n",
        "chcmemy dodać do siebie dwa elementy ciała $GF(2^3)$: $x^2+x$ oraz $x+1$:\n",
        "\n",
        "$(x^2+x)\\oplus (x+1)=(1\\cdot x^2+1\\cdot x+0\\cdot 1)\\oplus (0\\cdot x^2+1\\cdot x+1\\cdot 1)=(1\\oplus0)\\cdot x^2+(1\\oplus 1)\\cdot x+(0\\oplus 1)\\cdot 1=1\\cdot x^2+0\\cdot x+1\\cdot 1=x^2+1$\n",
        "\n",
        "to samo dodawanie możemy zapisać reprezentując wielomiany jako ciągi btów:\n",
        "$110\\oplus011=101$\n",
        "widzimy więc, że dodawnie wielomianów jest zwykłą alternatywą wykluczająca dwóch ciagów bitów.\n",
        "\n",
        "Zauważmy też, że w wyniku dodawnia zawsze dostajemy wielomian o stopniu nie wyższym niż składniki działania zatem nie wychodzimy poza ciało, czyli nie musimy wykonywac żadnej operacji modulo na wielomianach.\n",
        "\n",
        "Zaimplementuj funkcję $\\textit{add_GF(p,q)}$, przyjmującą dwa stringi będące ciagami bitów reprezentujące dwa \n",
        "wielomiany i zwracjącą string będący ciagiem bitów reprezentujący wielomian $p\\oplus q$."
      ]
    },
    {
      "cell_type": "code",
      "metadata": {
        "id": "0Lm-JMsTY4Lm"
      },
      "source": [
        "def add_GF(p,q):\n",
        "    length=max(len(p),len(q))\n",
        "    p = p.zfill(length)\n",
        "    q = q.zfill(length)\n",
        "    result=''\n",
        "    for i in range(length):\n",
        "        result+=str(int(p[i]) ^ int(q[i]))\n",
        "    result = result.lstrip('0')\n",
        "    return result"
      ],
      "execution_count": null,
      "outputs": []
    },
    {
      "cell_type": "code",
      "metadata": {
        "colab": {
          "base_uri": "https://localhost:8080/"
        },
        "id": "bzvSmayeY4Ln",
        "outputId": "cd6eb696-7eb2-46ff-b5fb-97ffce96304f"
      },
      "source": [
        "print(add_GF('110','11')=='101')\n",
        "print(add_GF('110','101')=='11')"
      ],
      "execution_count": null,
      "outputs": [
        {
          "output_type": "stream",
          "name": "stdout",
          "text": [
            "True\n",
            "True\n"
          ]
        }
      ]
    },
    {
      "cell_type": "markdown",
      "metadata": {
        "id": "p2RItlAtY4Ls"
      },
      "source": [
        "Poza tym zaimplementuj funkcję zamieniającą string z bitami na string zawierający zapis szesnastkowy (uzupełniający ewentualnie zerami z przodu aby uzyskać zadaną liczbę cyfr $\\textit{pad}$), przyda nam się to później."
      ]
    },
    {
      "cell_type": "code",
      "metadata": {
        "id": "owX-0lxEY4Lu"
      },
      "source": [
        "def bin2hex(bin_str,pad):\n",
        "    hex_str = format(int(bin_str,2),'x')\n",
        "    hex_str = hex_str.zfill(pad)\n",
        "    return hex_str"
      ],
      "execution_count": null,
      "outputs": []
    },
    {
      "cell_type": "code",
      "metadata": {
        "colab": {
          "base_uri": "https://localhost:8080/"
        },
        "id": "hNRtUg9VY4Lv",
        "outputId": "37f1c0fa-182c-4413-968d-839f17e5dd93"
      },
      "source": [
        "print(bin2hex('1101',2)=='0d')\n",
        "print(bin2hex('11010011',2)=='d3')\n",
        "print(bin2hex('1111111',3)=='07f')\n",
        "print(bin2hex('1',1)=='1')"
      ],
      "execution_count": null,
      "outputs": [
        {
          "output_type": "stream",
          "name": "stdout",
          "text": [
            "True\n",
            "True\n",
            "True\n",
            "True\n"
          ]
        }
      ]
    },
    {
      "cell_type": "markdown",
      "metadata": {
        "id": "WacGDBuvY4Ly"
      },
      "source": [
        "## Zadanie 2 (2 pkt.)"
      ]
    },
    {
      "cell_type": "markdown",
      "metadata": {
        "id": "GTgRQrI-Y4L0"
      },
      "source": [
        "Teraz zajmiemy się mnożeniem, które jest już bardziej skomplikowane. Na początek mnożymy jak w przypadku zwykłych wielomianów, z tym, że współczynniki mnożą się zgodnie z regułami $GF(2)$. Jak łatwo jednak zauważyć w wyniku mnożenia możemy dostać wielomian o stopniu wyższym niż mnożone wielomiany zatem nie należący do naszego ciał, aby wynik zawsze należał do ciała musimy dodatkowo wykonać dzielenie wielomianu modulo pewien nieredukowalny wielomian, który musi być podany jako elelment definicji, gdyż takich możliwych wielomianów może być wiele.\n",
        "\n",
        "Zanim jednak będziemy cokolwiek dzielić musimy zaimplementować zwykłe mnożenie wielomianów.\n",
        "\n",
        "Zaimplementuj funkcję $\\textit{multiply(p,q)}$, przyjmującą dwa stringi będące ciagami bitów reprezentujące dwa \n",
        "wielomiany i zwracjącą string będący ciagiem bitów reprezentujących wielomian $pq$. Nie jest to mnożenie w ramach ciała Galois bo jeszcze nie uwzględniamy operacji modulo, ale dodawnie, które się pojawia przy mnożeniu tych wielomianów jest dodawaniem w ciele Galois ($\\textit{add_GF()}$), tzn. na przykład:\n",
        "\n",
        "$(x^2+x)(x+1)=x^3+x$ bo $x^2\\oplus x^2=0$\n",
        "\n",
        "jak łatwo zauważyć, $x^3+x\\notin GF(2^3)$"
      ]
    },
    {
      "cell_type": "code",
      "metadata": {
        "id": "tcil7RJUY4L1"
      },
      "source": [
        "def multiply(p,q):\n",
        "    length=max(len(p),len(q))\n",
        "    p = p.zfill(length)\n",
        "    q = q.zfill(length)\n",
        "    additions={}\n",
        "    for i in range(len(p)):\n",
        "        for j in range(len(q)):\n",
        "            if j+i in additions.keys():\n",
        "                additions[i+j].append(str(int(p[i])*int(q[j])))\n",
        "            else:\n",
        "                additions[i+j]=[str(int(p[i])*int(q[j]))]\n",
        "    result=''\n",
        "    for addition in additions.values():\n",
        "        temp=addition[0]\n",
        "        for i in range(1,len(addition)):\n",
        "            temp=add_GF(temp,addition[i])\n",
        "            if(temp==''):\n",
        "                temp='0'\n",
        "        result+=temp\n",
        "    return result.lstrip('0')\n",
        "\n"
      ],
      "execution_count": null,
      "outputs": []
    },
    {
      "cell_type": "code",
      "metadata": {
        "colab": {
          "base_uri": "https://localhost:8080/"
        },
        "id": "evzz2Mv_Y4L2",
        "outputId": "10f19667-7d00-44e1-81ba-10347686aa80"
      },
      "source": [
        "print(multiply('10','1')=='10')\n",
        "print(multiply('10','10')=='100')\n",
        "print(multiply('110','11')=='1010')"
      ],
      "execution_count": null,
      "outputs": [
        {
          "output_type": "stream",
          "name": "stdout",
          "text": [
            "True\n",
            "True\n",
            "True\n"
          ]
        }
      ]
    },
    {
      "cell_type": "markdown",
      "metadata": {
        "id": "BgaVC50KY4L3"
      },
      "source": [
        "## Zadanie 3 (2 pkt.)"
      ]
    },
    {
      "cell_type": "markdown",
      "metadata": {
        "id": "zUq9Bd4KY4L3"
      },
      "source": [
        "Zaimplementuj funkcję $\\textit{divide(p,q)}$, która dla wielomianów $p$ i $q$ zwraca wynik dzielenie $p$ przez $q$ wraz z resztą. Jak dzielić wielomiany z resztą przypomnij sobie ze szkoły średniej, tu będzie tak samo tylko trzeba pamietać, że współczynniki w naszych wielomianach należą do ciała $GF(2)$. Może być wygodne również zauważenie, że w przypadku $GF(2)$ dodawanie jest tożsame z odejmownaniem, tj. dla $a,b\\in GF(2)$ mamy $a+b=a-b$ zatem w schemacie pisemnego mnożenia wielomianów możemy dodawać zamiast odejmować."
      ]
    },
    {
      "cell_type": "code",
      "metadata": {
        "id": "sigiUSdRY4L5"
      },
      "source": [
        "def divide(p,q):\n",
        "    q = q.lstrip('0')\n",
        "    result = '0'\n",
        "    if q == '1':\n",
        "        return p,'0'\n",
        "    while(len(p)>=len(q)):\n",
        "        pol_degree = len(p)-len(q)\n",
        "        r = '1' + pol_degree*'0'\n",
        "        result = add_GF(result, r)\n",
        "        p = add_GF(p, multiply(q, r))\n",
        "        if(p==''):\n",
        "          p='0'\n",
        "    return result, p\n"
      ],
      "execution_count": null,
      "outputs": []
    },
    {
      "cell_type": "code",
      "metadata": {
        "colab": {
          "base_uri": "https://localhost:8080/"
        },
        "id": "uBGWUzaTfAq1",
        "outputId": "eab8acd8-80ae-46d2-f8e0-2e2209d39431"
      },
      "source": [
        "print(divide('1010','110'))"
      ],
      "execution_count": null,
      "outputs": [
        {
          "output_type": "stream",
          "name": "stdout",
          "text": [
            "('11', '0')\n"
          ]
        }
      ]
    },
    {
      "cell_type": "code",
      "metadata": {
        "colab": {
          "base_uri": "https://localhost:8080/"
        },
        "id": "BpsaAWvvY4L7",
        "outputId": "19fd71e3-b3be-4b27-a342-1e431124502c"
      },
      "source": [
        "print(divide('1011','11')==('110','1'))\n",
        "print(divide('1010','110')==('11','0'))\n",
        "print(divide('1111','10')==('111','1'))"
      ],
      "execution_count": null,
      "outputs": [
        {
          "output_type": "stream",
          "name": "stdout",
          "text": [
            "True\n",
            "True\n",
            "True\n"
          ]
        }
      ]
    },
    {
      "cell_type": "markdown",
      "metadata": {
        "id": "wfQ7JJnYY4L-"
      },
      "source": [
        "## Zadanie 4 (1 pkt.)"
      ]
    },
    {
      "cell_type": "markdown",
      "metadata": {
        "id": "5hWn7NulY4L-"
      },
      "source": [
        "Teraz możemy przejść do mnożenia w ciele $GF(2^n)$. Jest to zwykłe mnożenie wielomianów (funkcja $\\textit{multiply()}$) ale dodatkowo musimy wykonać dzielenie z resztą (funkcja $\\textit{divide()}$) przez pewnie nieredukowalny wielomian, i ostatecznym wynikiem jest właśnie reszta z tego dzielenia. Wielomian ten można wybrać na wiele sposobów.\n",
        "\n",
        "Skupmy się więc od teraz na przypadku, który nas najbardziej interesuje czyli ciele Galois używanym w przypadku szyfrowania AES, któym będziemy się zajmować. Ciałem tym jest $GF(2^8)$ z wielomianem nieredukowalnym $x^8+x^4+x^3+x+1$.\n",
        "\n",
        "Zaimplementuj funkcję $\\textit{multiply_GF(p,q)}$, która dla wielomianów $p$, $q$ zwraca wynika mnożenia $p\\odot q$ w ciele $GF(2^8)$ modulo wielomian $x^8+x^4+x^3+x+1$."
      ]
    },
    {
      "cell_type": "code",
      "metadata": {
        "id": "7h0JSgkqY4L_"
      },
      "source": [
        "def multiply_GF(p,q):\n",
        "    result = multiply(p,q)\n",
        "    mod = '100011011'\n",
        "    if(len(result)>len(mod)-1):\n",
        "        result = divide(result,mod)[1]\n",
        "    return result"
      ],
      "execution_count": null,
      "outputs": []
    },
    {
      "cell_type": "code",
      "metadata": {
        "colab": {
          "base_uri": "https://localhost:8080/"
        },
        "id": "HZ_dlG7gY4L_",
        "outputId": "ed959d6f-c1a1-4bc9-b8ef-7542c4ad22b3"
      },
      "source": [
        "print(multiply_GF('1101','1')=='1101')\n",
        "print(multiply_GF('1101','10')=='11010')\n",
        "print(multiply_GF('10000000','10')=='11011')\n",
        "print(multiply_GF('11100101','1010')=='10111000')"
      ],
      "execution_count": null,
      "outputs": [
        {
          "output_type": "stream",
          "name": "stdout",
          "text": [
            "True\n",
            "True\n",
            "True\n",
            "True\n"
          ]
        }
      ]
    },
    {
      "cell_type": "markdown",
      "metadata": {
        "id": "ElIAwU1aY4MB"
      },
      "source": [
        "## Zadanie 5 (2 pkt.)"
      ]
    },
    {
      "cell_type": "markdown",
      "metadata": {
        "id": "yvEfUyvsY4MC"
      },
      "source": [
        "Potrafimy mnożyć już wielomiany w ciele $GF(2^8)$, chcielibyśmy też umieć znajdować do danego elementu $p$ element odwrotny $q$, to jest taki, że $p\\odot q=1$. Aby to zrobić będziemy musieli skorzystać z Rozszerzonego Algorytmu Euklidesa (EEA), algorytm ten dla danych liczb całkowitych $a$ i $b$ znajduje takie liczby całkowite $c$ i $d$, że:\n",
        "\n",
        "$$ac+bd=NWD(a,b)$$\n",
        "gdzie $NWD$ to największy wspólny dzielnik.\n",
        "\n",
        "Ten sam algorytm możemy użyć w odniesieniu do elementów ciała $GF(2^8)$, wystarczy wszystkie operacje dodawania, mnożenia i dzielenia z resztą używane w tym algorytmie zastąpić operacjami $\\textit{add_GF()}$, $\\textit{multiply_GF()}$, $\\textit{divide()}$.\n",
        "\n",
        "Zaimplementuj funkcję $\\textit{EEA_GF(p,q)}$, która dla wielomianów $p$, $q$ zwraca wielomiany $s$ i $t$ takie, że $s\\odot p\\oplus t\\odot q=NWD(p,q)$."
      ]
    },
    {
      "cell_type": "code",
      "metadata": {
        "id": "GP2ZrfmpY4ME"
      },
      "source": [
        "def EEA_GF(r0,r1):\n",
        "    s='0'\n",
        "    t='1'\n",
        "    old_s='1'\n",
        "    old_t='0'\n",
        "    while(r0 != '0'):\n",
        "        division = divide(r1,r0)\n",
        "        new_s = add_GF(s,multiply(old_s,division[0]))\n",
        "        new_t = add_GF(t,multiply(old_t,division[0]))\n",
        "        r1,r0=r0,division[1]\n",
        "        s,t = old_s,old_t\n",
        "        old_s,old_t=new_s,new_t\n",
        "    return s,t\n"
      ],
      "execution_count": null,
      "outputs": []
    },
    {
      "cell_type": "code",
      "metadata": {
        "colab": {
          "base_uri": "https://localhost:8080/"
        },
        "id": "XzejhXa_pO3p",
        "outputId": "7ba42838-c2d3-478e-ff41-224c0964dfe3"
      },
      "source": [
        "print(EEA_GF('11010101','10010111'))"
      ],
      "execution_count": null,
      "outputs": [
        {
          "output_type": "stream",
          "name": "stdout",
          "text": [
            "('11001', '10100')\n"
          ]
        }
      ]
    },
    {
      "cell_type": "code",
      "metadata": {
        "colab": {
          "base_uri": "https://localhost:8080/"
        },
        "id": "FOna0jKMY4MF",
        "outputId": "0b90132e-27f9-4c04-cced-d4ec8c0ec932"
      },
      "source": [
        "print(EEA_GF('11010101','10010111')==('11001', '10100'))\n",
        "print(EEA_GF('11110000','11001011')==('1000000', '1010111'))"
      ],
      "execution_count": null,
      "outputs": [
        {
          "output_type": "stream",
          "name": "stdout",
          "text": [
            "True\n",
            "True\n"
          ]
        }
      ]
    },
    {
      "cell_type": "markdown",
      "metadata": {
        "id": "nMF--uHUY4MG"
      },
      "source": [
        "## Zadanie 6 (1 pkt.)"
      ]
    },
    {
      "cell_type": "markdown",
      "metadata": {
        "id": "Ec_DXOTgY4MH"
      },
      "source": [
        "Korzytsając z Rozszerzonego Algorytmu Euklidesa (EEA) możemy znajdować wielomian odwrotny do danego. Pozostańmy przy naszym przypadku ciała $GF(2^8)$ z wielomianem nieredukowalnym $m=x^8+x^4+x^3+x+1$. Weźmy dowolny wielomian $p\\in GF(2^8)$. Korzystając z EEA możemy znaleźć takie $s$ i $t$, że $$s\\odot p\\oplus t\\odot m=NWD(p,m)$$\n",
        "\n",
        "ponieważ $m$ jest nieredukowalny to $NWD(p,m)=1$ a zatem\n",
        "\n",
        "$$s\\odot p\\oplus t\\odot m=1$$\n",
        "\n",
        "poza tym zauważmy, że $t\\odot m=0$, bo przy wykonywaniu działania $\\odot$ dzielimy modulo własnie przez $m$ więc reszta z tego dzielenia jest zerem. Zatem:\n",
        "\n",
        "$$s\\odot p=1$$\n",
        "\n",
        "czyli znaleźliśmy element odwrotny do $p$ jest to $s$, czyli jeden z wielomianów, które zwraca algorytm $EEA$.\n",
        "\n",
        "Napisz funkcję zwracjącą odwrotność podanego wielomianu, korzystającą z funkcji $\\textit{EEA_GF()}$"
      ]
    },
    {
      "cell_type": "code",
      "metadata": {
        "id": "EgNpwrYqY4MI"
      },
      "source": [
        "def inverse_GF(p):\n",
        "    if(p=='0'*8):\n",
        "        return p\n",
        "    m='100011011'\n",
        "    return EEA_GF(p, m)[0]\n"
      ],
      "execution_count": null,
      "outputs": []
    },
    {
      "cell_type": "code",
      "metadata": {
        "colab": {
          "base_uri": "https://localhost:8080/"
        },
        "id": "7q9K9tIdY4MJ",
        "outputId": "3afd2a6d-9aca-4329-9455-e2f04b438cc8"
      },
      "source": [
        "print(inverse_GF('11001010')=='1010011')\n",
        "print(inverse_GF('1100101')=='10100110')"
      ],
      "execution_count": null,
      "outputs": [
        {
          "output_type": "stream",
          "name": "stdout",
          "text": [
            "True\n",
            "True\n"
          ]
        }
      ]
    },
    {
      "cell_type": "markdown",
      "metadata": {
        "id": "ztj_JdhsY4MK"
      },
      "source": [
        "## Zadanie 7 (2 pkt.)"
      ]
    },
    {
      "cell_type": "markdown",
      "metadata": {
        "id": "AjcNC9ZWY4ML"
      },
      "source": [
        "Na poprzedniej liście dotyczącej DES-a używaliśmy S-Boxa. W przypadku AES-a również jest używany odpowiedni S-Box, zamienia on ciąg 8 bitów na inny ciąg 8 bitów. Poniżej widzimy gotową postać tego S-Boxa. Mając dane 8 bitów (np. '01010110') dzielimy je na dwie grupy ('0101' i '0110'), zamieniając je na liczbę dziesiętną otrzymujemy numer wiersza oraz kolumny (5 i 6), z których odczytujemy wynik ('b1'), który jest zapisany w postaci szesnastkowej, zamieniamy go więc na binarną ('10110001') i to jest ciąg bitów, którym zastępujemy wejściowy.\n",
        "\n",
        "W przypadku DES-a S-Box był dany jako element specyfikacji, tutaj natomiast S-Box wynika z teorii ciał Galois i możemy go wyprowadzić, tego dotyczy właśnie to zadanie. Operacje, które stoją za działaniem S-Boxa są następujące. Bierzemy wejściowy ciąg 8 bitów $p$ następnie obliczamy jego odwrotność w ciele Galois (funkcja $\\textit{inverse_GF()}$) to co otrzymujemy oznaczmy $p^{-1}$, następnie dokonujemy transformacji afinicznej za pomocą macierzy $A$ oraz wektora $v$\n",
        "\n",
        "$$q=Ap^{-1}+v$$\n",
        "\n",
        "gdzie mamy iloczyn macierzy i wektora ($p$ traktujemy jako wektor bitów, bez zmiany kolejności, tj. $p=[p_7, p_6, ..., p_0]$ ) oraz sumę wektorów, przy czym operacje na bitach wykonujemy w ramach ciała $GF(2)$. Otrzymany ciąg bitów $q$ jest naszym wynikiem, ten ciąg właśnie znajduje się na odpowiendnim dla $p$ miejscu S-Boxa.\n",
        "\n",
        "Uwaga: wektor $p=(0,0,0,0,0,0,0,0)$ nie ma odwrotności w ciele $GF(2^8)$ bo jest wektorem zerowym a ciało tworzy grupę ze względu na mnożenie dla wszystkich elementów poza zerowym (czyli tym, który jest elementem neutralnym w działaniu dodawania) w ramach algorytmu AES przyjmujemy, że $p^{-1}$ jest też wektorem zerowym ($p^{-1}=(0,0,0,0,0,0,0,0)$).\n",
        "\n",
        "Napisz funkcję $\\textit{substitute(p)}$, ktore przyjmuje ciąg bitów i zwraca ciąg (reprezentowany przez dwie cyfry szensastkowe) wynikający z powyższej transformacji. A następnie wygeneruj za jej pomocą S-Box, sprawdź czy wyszedł taki jak poniżej, użyj funkcji $\\textit{bin2hex()}$ aby zamienić ciągi bitów na zapis szesnastkowy."
      ]
    },
    {
      "cell_type": "code",
      "metadata": {
        "id": "Mmzuav6AY4MO"
      },
      "source": [
        "SBox=[['63', '7c', '77', '7b', 'f2', '6b', '6f', 'c5', '30', '01', '67', '2b', 'fe', 'd7', 'ab', '76'],\n",
        "      ['ca', '82', 'c9', '7d', 'fa', '59', '47', 'f0', 'ad', 'd4', 'a2', 'af', '9c', 'a4', '72', 'c0'],\n",
        "      ['b7', 'fd', '93', '26', '36', '3f', 'f7', 'cc', '34', 'a5', 'e5', 'f1', '71', 'd8', '31', '15'],\n",
        "      ['04', 'c7', '23', 'c3', '18', '96', '05', '9a', '07', '12', '80', 'e2', 'eb', '27', 'b2', '75'],\n",
        "      ['09', '83', '2c', '1a', '1b', '6e', '5a', 'a0', '52', '3b', 'd6', 'b3', '29', 'e3', '2f', '84'],\n",
        "      ['53', 'd1', '00', 'ed', '20', 'fc', 'b1', '5b', '6a', 'cb', 'be', '39', '4a', '4c', '58', 'cf'],\n",
        "      ['d0', 'ef', 'aa', 'fb', '43', '4d', '33', '85', '45', 'f9', '02', '7f', '50', '3c', '9f', 'a8'],\n",
        "      ['51', 'a3', '40', '8f', '92', '9d', '38', 'f5', 'bc', 'b6', 'da', '21', '10', 'ff', 'f3', 'd2'],\n",
        "      ['cd', '0c', '13', 'ec', '5f', '97', '44', '17', 'c4', 'a7', '7e', '3d', '64', '5d', '19', '73'],\n",
        "      ['60', '81', '4f', 'dc', '22', '2a', '90', '88', '46', 'ee', 'b8', '14', 'de', '5e', '0b', 'db'],\n",
        "      ['e0', '32', '3a', '0a', '49', '06', '24', '5c', 'c2', 'd3', 'ac', '62', '91', '95', 'e4', '79'],\n",
        "      ['e7', 'c8', '37', '6d', '8d', 'd5', '4e', 'a9', '6c', '56', 'f4', 'ea', '65', '7a', 'ae', '08'],\n",
        "      ['ba', '78', '25', '2e', '1c', 'a6', 'b4', 'c6', 'e8', 'dd', '74', '1f', '4b', 'bd', '8b', '8a'],\n",
        "      ['70', '3e', 'b5', '66', '48', '03', 'f6', '0e', '61', '35', '57', 'b9', '86', 'c1', '1d', '9e'],\n",
        "      ['e1', 'f8', '98', '11', '69', 'd9', '8e', '94', '9b', '1e', '87', 'e9', 'ce', '55', '28', 'df'],\n",
        "      ['8c', 'a1', '89', '0d', 'bf', 'e6', '42', '68', '41', '99', '2d', '0f', 'b0', '54', 'bb', '16']]"
      ],
      "execution_count": null,
      "outputs": []
    },
    {
      "cell_type": "code",
      "metadata": {
        "id": "QtrFNDXbY4MP"
      },
      "source": [
        "A=[[1, 1, 1, 1, 1, 0, 0, 0],\n",
        "   [0, 1, 1, 1, 1, 1, 0, 0],\n",
        "   [0, 0, 1, 1, 1, 1, 1, 0],\n",
        "   [0, 0, 0, 1, 1, 1, 1, 1],\n",
        "   [1, 0, 0, 0, 1, 1, 1, 1],\n",
        "   [1, 1, 0, 0, 0, 1, 1, 1],\n",
        "   [1, 1, 1, 0, 0, 0, 1, 1],\n",
        "   [1, 1, 1, 1, 0, 0, 0, 1]]\n",
        "\n",
        "v=[0, 1, 1, 0, 0, 0, 1, 1]"
      ],
      "execution_count": null,
      "outputs": []
    },
    {
      "cell_type": "code",
      "metadata": {
        "id": "S3noFS9CY4MQ"
      },
      "source": [
        "def substitute(p):\n",
        "    inversed_p = inverse_GF(p)\n",
        "    inversed_p = inversed_p.zfill(8)\n",
        "    ap_vector = []\n",
        "    for i in range(len(A)):\n",
        "        comp = 0 \n",
        "        for j in range(len(A[0])):\n",
        "            comp+=A[i][j]*int(inversed_p[j])\n",
        "        ap_vector.append(comp)\n",
        "    result=''\n",
        "    for i in range(len(ap_vector)):\n",
        "        result+=str((ap_vector[i]+v[i])%2)\n",
        "    return bin2hex(result, 2)"
      ],
      "execution_count": null,
      "outputs": []
    },
    {
      "cell_type": "code",
      "metadata": {
        "colab": {
          "base_uri": "https://localhost:8080/"
        },
        "id": "JMVE9-4lY4MS",
        "outputId": "cc841b72-5822-4cdd-ac76-c129b8cf4960"
      },
      "source": [
        "print(substitute('11010101')=='03')\n",
        "print(substitute('01010001')=='d1')\n",
        "print(substitute('11011101')=='c1')\n",
        "print(substitute('11101100')=='ce')"
      ],
      "execution_count": null,
      "outputs": [
        {
          "output_type": "stream",
          "name": "stdout",
          "text": [
            "True\n",
            "True\n",
            "True\n",
            "True\n"
          ]
        }
      ]
    },
    {
      "cell_type": "code",
      "metadata": {
        "colab": {
          "base_uri": "https://localhost:8080/"
        },
        "id": "aQe5JcTc7-eD",
        "outputId": "ed29d70b-1cad-48dd-a0c2-9e7a267ce54d"
      },
      "source": [
        "s_box=[]#zmienna zawierająca utworzony S-Box\n",
        "\n",
        "for i in range(len(SBox)):\n",
        "    s_row = []\n",
        "    r_ind = format(i, 'b').zfill(4)\n",
        "    for j in range(len(SBox[0])):\n",
        "        c_ind = format(j,'b').zfill(4)\n",
        "        p = r_ind + c_ind\n",
        "        s_row.append(substitute(p))\n",
        "    s_box.append(s_row)"
      ],
      "execution_count": null,
      "outputs": [
        {
          "output_type": "stream",
          "name": "stdout",
          "text": [
            "[['63', '7c', '77', '7b', 'f2', '6b', '6f', 'c5', '30', '01', '67', '2b', 'fe', 'd7', 'ab', '76'], ['ca', '82', 'c9', '7d', 'fa', '59', '47', 'f0', 'ad', 'd4', 'a2', 'af', '9c', 'a4', '72', 'c0'], ['b7', 'fd', '93', '26', '36', '3f', 'f7', 'cc', '34', 'a5', 'e5', 'f1', '71', 'd8', '31', '15'], ['04', 'c7', '23', 'c3', '18', '96', '05', '9a', '07', '12', '80', 'e2', 'eb', '27', 'b2', '75'], ['09', '83', '2c', '1a', '1b', '6e', '5a', 'a0', '52', '3b', 'd6', 'b3', '29', 'e3', '2f', '84'], ['53', 'd1', '00', 'ed', '20', 'fc', 'b1', '5b', '6a', 'cb', 'be', '39', '4a', '4c', '58', 'cf'], ['d0', 'ef', 'aa', 'fb', '43', '4d', '33', '85', '45', 'f9', '02', '7f', '50', '3c', '9f', 'a8'], ['51', 'a3', '40', '8f', '92', '9d', '38', 'f5', 'bc', 'b6', 'da', '21', '10', 'ff', 'f3', 'd2'], ['cd', '0c', '13', 'ec', '5f', '97', '44', '17', 'c4', 'a7', '7e', '3d', '64', '5d', '19', '73'], ['60', '81', '4f', 'dc', '22', '2a', '90', '88', '46', 'ee', 'b8', '14', 'de', '5e', '0b', 'db'], ['e0', '32', '3a', '0a', '49', '06', '24', '5c', 'c2', 'd3', 'ac', '62', '91', '95', 'e4', '79'], ['e7', 'c8', '37', '6d', '8d', 'd5', '4e', 'a9', '6c', '56', 'f4', 'ea', '65', '7a', 'ae', '08'], ['ba', '78', '25', '2e', '1c', 'a6', 'b4', 'c6', 'e8', 'dd', '74', '1f', '4b', 'bd', '8b', '8a'], ['70', '3e', 'b5', '66', '48', '03', 'f6', '0e', '61', '35', '57', 'b9', '86', 'c1', '1d', '9e'], ['e1', 'f8', '98', '11', '69', 'd9', '8e', '94', '9b', '1e', '87', 'e9', 'ce', '55', '28', 'df'], ['8c', 'a1', '89', '0d', 'bf', 'e6', '42', '68', '41', '99', '2d', '0f', 'b0', '54', 'bb', '16']]\n"
          ]
        }
      ]
    },
    {
      "cell_type": "code",
      "metadata": {
        "colab": {
          "base_uri": "https://localhost:8080/"
        },
        "id": "SCycGK3pY4MS",
        "outputId": "c98c1fab-dcd3-4de7-f012-3aa6af2ec35d"
      },
      "source": [
        "\n",
        "print(s_box==SBox)"
      ],
      "execution_count": null,
      "outputs": [
        {
          "output_type": "stream",
          "name": "stdout",
          "text": [
            "True\n"
          ]
        }
      ]
    }
  ]
}