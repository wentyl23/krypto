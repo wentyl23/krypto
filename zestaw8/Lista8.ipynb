{
 "cells": [
  {
   "cell_type": "markdown",
   "metadata": {},
   "source": [
    "# Lista 8 (10 pkt.)"
   ]
  },
  {
   "cell_type": "code",
   "execution_count": 57,
   "metadata": {},
   "outputs": [],
   "source": [
    "import numpy as np\n",
    "import math\n",
    "import matplotlib.pyplot as plt\n",
    "import random"
   ]
  },
  {
   "cell_type": "markdown",
   "metadata": {},
   "source": [
    "## Zadanie 1 (2 pkt.)"
   ]
  },
  {
   "cell_type": "markdown",
   "metadata": {},
   "source": [
    "Napisz funkcję $gen(a,b,p)$, która generuje listę punktów reprezentujących krzywą eliptyczną nad $\\mathbb{Z}_p$ o równaniu $y^2=(x^3+ax+b)\\mod p$."
   ]
  },
  {
   "cell_type": "code",
   "execution_count": 3,
   "metadata": {},
   "outputs": [],
   "source": [
    "def gen(a,b,p):\n",
    "    xs = range(p)\n",
    "    quad_xs = [(x*x)%p for x in range(p)]\n",
    "    eliptic_xs = [((x**3)+a*x+b)%p for x in range(p)]\n",
    "    points=[]\n",
    "    for i in range(p):\n",
    "        quad_y = eliptic_xs[i]\n",
    "        for j in range(p):\n",
    "            if quad_xs[j] == quad_y :\n",
    "                points.append([i,j])\n",
    "    return points"
   ]
  },
  {
   "cell_type": "code",
   "execution_count": null,
   "metadata": {},
   "outputs": [],
   "source": []
  },
  {
   "cell_type": "code",
   "execution_count": 4,
   "metadata": {},
   "outputs": [
    {
     "name": "stdout",
     "output_type": "stream",
     "text": [
      "True\n",
      "True\n",
      "True\n",
      "True\n"
     ]
    }
   ],
   "source": [
    "print(gen(-1,0,7)==[[0, 0], [1, 0], [4, 2], [4, 5], [5, 1], [5, 6], [6, 0]])\n",
    "print(gen(-1,0,11)==[[0, 0], [1, 0], [4, 4], [4, 7], [6, 1], [6, 10], [8, 3], [8, 8], [9, 4], [9, 7], [10, 0]])\n",
    "print(gen(-1,1,7)==[[0, 1], [0, 6], [1, 1], [1, 6], [2, 0], [3, 2], [3, 5], [5, 3], [5, 4], [6, 1], [6, 6]])\n",
    "print(gen(0,2,5)==[[2, 0], [3, 2], [3, 3], [4, 1], [4, 4]])"
   ]
  },
  {
   "cell_type": "markdown",
   "metadata": {},
   "source": [
    "## Zadanie 2 (2 pkt.)"
   ]
  },
  {
   "cell_type": "markdown",
   "metadata": {},
   "source": [
    "Napisz funkcję $add(P,Q,a,p)$, która dodaje do siebie punkty $P$ i $Q$ na krzywej eliptycznej nad ciałem $\\mathbb{Z}_p$ z parametrem $a$. Wykorzystaj wzory z wykładu.\n",
    "\n",
    "Uwaga 1: wszystkie operacje w tych wzorach są na ciele $\\mathbb{Z}_p$ zatem tam gdzie mamy dzielenie mamy tak naprawdę mnożenie przez odwrotność w tym ciele, wykorzystaj tutaj funkcję $inv$ z poprzedniej listy, może być potrzeba ją nieco zmodyfikować, ponieważ może się tu pojawić dzielenie przez zero, które daje nam punkt \"w nieskończości\" (na wykładzie: $\\mathcal{O}$).\n",
    "\n",
    "Uwaga 2: Uwzględnij również, że zarówno w wyniku dodawania jak i w argumentach dodawanie może pojawić się punkt \"w nieskończoności\", zwracaj go jako $nan$, tj. za pomocą $float('nan')$, do sprawdzania czy coś jest $nan$ użyj $np.isnan()$."
   ]
  },
  {
   "cell_type": "code",
   "execution_count": 5,
   "metadata": {},
   "outputs": [],
   "source": [
    "def inv(p,n):\n",
    "    s=0\n",
    "    t=1\n",
    "    old_s=1\n",
    "    old_t=0\n",
    "    while(n > 0):\n",
    "        r = p//n\n",
    "        m = p%n\n",
    "        new_s = s - old_s * r\n",
    "        new_t = t - old_t * r\n",
    "        p,n = n,m\n",
    "        s,t = old_s, old_t\n",
    "        old_s, old_t = new_s, new_t\n",
    "    if(t<0):\n",
    "        return t+new_t \n",
    "    return t"
   ]
  },
  {
   "cell_type": "code",
   "execution_count": 6,
   "metadata": {},
   "outputs": [],
   "source": [
    "def add(P,Q,a,p):\n",
    "    if (np.isnan(P[0]) or np.isnan(P[1])): \n",
    "        return Q\n",
    "    elif (np.isnan(Q[0]) or np.isnan(Q[1])):\n",
    "        return P\n",
    "    elif (P[0]==Q[0] and P[1]==(-Q[1])%p):\n",
    "        return [float('nan'),float('nan')]\n",
    "          \n",
    "    elif (P==Q):\n",
    "        s = (3*(P[0]**2)+a) * inv(2*P[1],p)\n",
    "    else:\n",
    "        s = (Q[1]-P[1]) * inv(Q[0]-P[0],p)\n",
    "    x = (s*s - P[0] - Q[0])%p\n",
    "    y = (s*(P[0] - x) - P[1])%p\n",
    "    return [x,y]\n",
    "          "
   ]
  },
  {
   "cell_type": "code",
   "execution_count": null,
   "metadata": {},
   "outputs": [],
   "source": []
  },
  {
   "cell_type": "code",
   "execution_count": 7,
   "metadata": {},
   "outputs": [
    {
     "name": "stdout",
     "output_type": "stream",
     "text": [
      "True\n",
      "True\n",
      "True\n",
      "True\n",
      "[ True  True]\n",
      "[ True  True]\n",
      "True\n",
      "[ True  True]\n"
     ]
    }
   ],
   "source": [
    "print(add([4,2],[5,1],-1,7)==[6,0])\n",
    "print(add([4,2],[4,2],-1,7)==[1,0])\n",
    "print(add([4,2],[5,1],-1,7)==[6,0])\n",
    "print(add([4,2],[float('nan'),float('nan')],-1,7)==[4,2])\n",
    "print(np.isnan(add([float('nan'),float('nan')],[float('nan'),float('nan')],-1,7)))\n",
    "print(np.isnan(add([0,0],[0,0],-1,7)))\n",
    "print(add([2,0],[3,2],0,5)==[4,1])\n",
    "print(np.isnan(add([2,0],[2,0],0,5)))"
   ]
  },
  {
   "cell_type": "markdown",
   "metadata": {},
   "source": [
    "W oparciu o poprzednią funkcję napisz funkcję $multiply(n,P,a,p)$, która mnoży punkt $P$ razy liczbę naturalną $n$ na krzywej eliptycznej nad ciałem $\\mathbb{Z}_p$ z parametrem $a$, tzn. dodaje ten punkt do siebie $n$ razy."
   ]
  },
  {
   "cell_type": "code",
   "execution_count": 8,
   "metadata": {},
   "outputs": [],
   "source": [
    "def multiply(n,P,a,p):\n",
    "    result = P\n",
    "    while(n>1):\n",
    "        result = add(result,P,a,p)\n",
    "        n-=1\n",
    "    return result"
   ]
  },
  {
   "cell_type": "code",
   "execution_count": 9,
   "metadata": {},
   "outputs": [
    {
     "name": "stdout",
     "output_type": "stream",
     "text": [
      "[4, 5]\n"
     ]
    }
   ],
   "source": [
    "print(multiply(3,[4,2],-1,7))"
   ]
  },
  {
   "cell_type": "code",
   "execution_count": 10,
   "metadata": {},
   "outputs": [
    {
     "name": "stdout",
     "output_type": "stream",
     "text": [
      "True\n",
      "True\n",
      "True\n",
      "[ True  True]\n",
      "[ True  True]\n",
      "True\n",
      "True\n"
     ]
    }
   ],
   "source": [
    "print(multiply(1,[4,2],-1,7)==[4,2])\n",
    "print(multiply(1,[4,2],-1,7)==[4,2])\n",
    "print(multiply(3,[4,2],-1,7)==[4,5])\n",
    "print(np.isnan(multiply(4,[4,2],-1,7)))\n",
    "print(np.isnan(multiply(2,[float('nan'),float('nan')],-1,7)))\n",
    "print(multiply(5,[2,0],0,5)==[2,0])\n",
    "print(multiply(5,[3,3],0,5)==[3,2])"
   ]
  },
  {
   "cell_type": "markdown",
   "metadata": {},
   "source": [
    "## Zadanie 3 (2 pkt.)"
   ]
  },
  {
   "cell_type": "markdown",
   "metadata": {},
   "source": [
    "Narysuj na wykresie punkty ($plt.scatter()$) reprezentujące krzywą eliptyczną. Stosując funkjcę $multiply()$ przeanalizuj jaką grupę generuje kazdy z punktów tej krzywej, wypisz te grupy. Nie automatyzuj tego, tzn. operacje na punktach wykonuj stosując wcześniejsze funkcje ale analizę poszczególnych grup przeprowadź ręcznie.\n",
    "\n",
    "Na przykład dla krzywej $y^2=x^3-5x$ nad ciałem $\\mathbb{Z}_5$ mamy 5 punktów (łącznie z punktem w nieskończoności, którego nie ma na wykresie, 6 punktów):\n",
    "\n",
    "<img src=\"fig.png\" width=\"500\"/>\n",
    "\n",
    "Punkt $P_0$ generuje dwuelementową grupę:\n",
    "\n",
    "{$P_0,\\mathcal{O}$},\n",
    "\n",
    "bo $2P_0=\\mathcal{O}$,\n",
    "\n",
    "punkt $P_1$ generuje pięcioelementową grupę:\n",
    "\n",
    "{$P_1,P_3,P_4,P_2,\\mathcal{O}$}\n",
    "\n",
    "bo $2P_1=P_3,3P_1=P_4,4P_1=P_2,5P_1=\\mathcal{O}$\n",
    "\n",
    "pozostałe elementy $P_2,P_3,P_4$ generują dokładnie tą samą grupę, zatem na tej krzywej mamy określone dwie grupy jedną dwuelementową i jedną pięcioelementową.\n",
    "\n",
    "Przeprowadź podobną analizę dla przykładów:\n",
    "1. krzywa nad ciałem $\\mathbb{Z}_7$ o równaniu $y^2=x^3-x$\n",
    "2. krzywa nad ciałem $\\mathbb{Z}_5$ o równaniu $y^2=x^3-2x+1$"
   ]
  },
  {
   "cell_type": "code",
   "execution_count": 11,
   "metadata": {},
   "outputs": [
    {
     "name": "stdout",
     "output_type": "stream",
     "text": [
      "Krzywa nad cialem Z7 o rownaniu y^2 = x^3 - x\n",
      "a=-1, b=0, p=7\n",
      "punkty - [[0, 0], [1, 0], [4, 2], [4, 5], [5, 1], [5, 6], [6, 0]]\n",
      "\n",
      "P[0] - grupa dwuelementowa: [[0, 0], [nan, nan]]\n",
      "Bo 2P[0]=O\n",
      "\n",
      "P[1] - grupa dwuelementowa: [[1, 0], [nan, nan]]\n",
      "Bo 2P[1]=O\n",
      "\n",
      "P[2] - grupa czteroelementowa: [[4, 2], [1, 0], [4, 5], [nan, nan]]\n",
      "Bo 2P[2]=P[1], 3P[2]=P[3], 4P[2]=O\n",
      "\n",
      "P[3] - grupa czteroelementowa: [[4, 5], [1, 0], [4, 2], [nan, nan]]\n",
      "Bo 2P[3]=P[1], 3P[3]=P[2], 4P[3]=O\n",
      "\n",
      "P[4] - grupa czteroelementowa: [[5, 1], [1, 0], [5, 6], [nan, nan]]\n",
      "Bo 2P[4]=P[1], 3P[4]=P[5], 4P[4]=O\n",
      "\n",
      "P[5] - grupa czteroelementowa: [[5, 6], [1, 0], [5, 1], [nan, nan]]\n",
      "Bo 2P[5]=P[1], 3P[5]=P[4], 4P[5]=O\n",
      "\n",
      "P[6] - grupa dwuelementowa: [[6, 0], [nan, nan]]\n",
      "Bo 2P[6]=O\n"
     ]
    },
    {
     "data": {
      "text/plain": [
       "<matplotlib.collections.PathCollection at 0x23b8fc9deb0>"
      ]
     },
     "execution_count": 11,
     "metadata": {},
     "output_type": "execute_result"
    },
    {
     "data": {
      "image/png": "[encoded data removed]",
      "text/plain": [
       "<Figure size 432x288 with 1 Axes>"
      ]
     },
     "metadata": {
      "needs_background": "light"
     },
     "output_type": "display_data"
    }
   ],
   "source": [
    "print(\"Krzywa nad cialem Z{} o rownaniu y^2 = x^3 - x\".format(7))\n",
    "a = -1\n",
    "b = 0\n",
    "p = 7\n",
    "print(\"a={}, b={}, p={}\".format(a,b,p))\n",
    "points = gen(a,b,p)\n",
    "print(\"punkty - {}\".format(points))\n",
    "print()\n",
    "print(\"P[0] - grupa dwuelementowa: {}\".format([points[0],multiply(2,points[0],a,p)]))\n",
    "print(\"Bo 2P[0]=O\")\n",
    "print()\n",
    "print(\"P[1] - grupa dwuelementowa: {}\".format([points[1],multiply(2,points[1],a,p)]))\n",
    "print(\"Bo 2P[1]=O\")\n",
    "print()\n",
    "print(\"P[2] - grupa czteroelementowa: {}\".format([points[2],multiply(2,points[2],a,p),multiply(3,points[2],a,p),multiply(4,points[2],a,p)]))\n",
    "print(\"Bo 2P[2]=P[1], 3P[2]=P[3], 4P[2]=O\")\n",
    "print()\n",
    "print(\"P[3] - grupa czteroelementowa: {}\".format([points[3],multiply(2,points[3],a,p),multiply(3,points[3],a,p),multiply(4,points[3],a,p)]))\n",
    "print(\"Bo 2P[3]=P[1], 3P[3]=P[2], 4P[3]=O\")\n",
    "print()\n",
    "print(\"P[4] - grupa czteroelementowa: {}\".format([points[4],multiply(2,points[4],a,p),multiply(3,points[4],a,p),multiply(4,points[4],a,p)]))\n",
    "print(\"Bo 2P[4]=P[1], 3P[4]=P[5], 4P[4]=O\")\n",
    "print()\n",
    "print(\"P[5] - grupa czteroelementowa: {}\".format([points[5],multiply(2,points[5],a,p),multiply(3,points[5],a,p),multiply(4,points[5],a,p)]))\n",
    "print(\"Bo 2P[5]=P[1], 3P[5]=P[4], 4P[5]=O\")\n",
    "print()\n",
    "print(\"P[6] - grupa dwuelementowa: {}\".format([points[6],multiply(2,points[6],a,p)]))\n",
    "print(\"Bo 2P[6]=O\")\n",
    "plt.scatter([p[0] for p in points], [p[1] for p in points])"
   ]
  },
  {
   "cell_type": "code",
   "execution_count": 12,
   "metadata": {},
   "outputs": [
    {
     "name": "stdout",
     "output_type": "stream",
     "text": [
      "Krzywa nad cialem Z5 o rownaniu y^2 = x^3 - x\n",
      "a=-2, b=1, p=5\n",
      "punkty - [[0, 1], [0, 4], [1, 0], [2, 0]]\n",
      "\n",
      "P[0] - grupa czteroelementowa: [[0, 1], [1, 0], [0, 4], [nan, nan]]\n",
      "Bo 2P[0]=P[2], 3P[0]=P[1], 4P[0]=O\n",
      "\n",
      "P[1] - grupa czteroelementowa: [[0, 4], [1, 0], [0, 1], [nan, nan]]\n",
      "Bo 2P[1]=P[2], 3P[1]=P[0], 4P[1]=O\n",
      "\n",
      "P[2] - grupa dwuelementowa: [[1, 0], [nan, nan]]\n",
      "Bo 2P[2]=O\n",
      "\n",
      "P[3] - grupa dwuelementowa: [[2, 0], [nan, nan]]\n",
      "Bo 2P[3]=O\n"
     ]
    },
    {
     "data": {
      "text/plain": [
       "<matplotlib.collections.PathCollection at 0x23b9040c250>"
      ]
     },
     "execution_count": 12,
     "metadata": {},
     "output_type": "execute_result"
    },
    {
     "data": {
      "image/png": "[encoded data removed]",
      "text/plain": [
       "<Figure size 432x288 with 1 Axes>"
      ]
     },
     "metadata": {
      "needs_background": "light"
     },
     "output_type": "display_data"
    }
   ],
   "source": [
    "print(\"Krzywa nad cialem Z{} o rownaniu y^2 = x^3 - x\".format(5))\n",
    "a = -2\n",
    "b = 1\n",
    "p = 5\n",
    "print(\"a={}, b={}, p={}\".format(a,b,p))\n",
    "points = gen(a,b,p)\n",
    "print(\"punkty - {}\".format(points))\n",
    "print()\n",
    "i=0\n",
    "print(\"P[{}] - grupa czteroelementowa: {}\".format(i,[points[i],multiply(2,points[i],a,p),multiply(3,points[i],a,p),multiply(4,points[i],a,p)]))\n",
    "print(f\"Bo 2P[{i}]=P[2], 3P[{i}]=P[1], 4P[{i}]=O\")\n",
    "print()\n",
    "i=1\n",
    "print(\"P[{}] - grupa czteroelementowa: {}\".format(i,[points[i],multiply(2,points[i],a,p),multiply(3,points[i],a,p),multiply(4,points[i],a,p)]))\n",
    "print(f\"Bo 2P[{i}]=P[2], 3P[{i}]=P[0], 4P[{i}]=O\")\n",
    "print()\n",
    "i=2\n",
    "print(\"P[{}] - grupa dwuelementowa: {}\".format(i,[points[i],multiply(2,points[i],a,p)]))\n",
    "print(f\"Bo 2P[{i}]=O\")\n",
    "print()\n",
    "i=3\n",
    "print(\"P[{}] - grupa dwuelementowa: {}\".format(i,[points[i],multiply(2,points[i],a,p)]))\n",
    "print(f\"Bo 2P[{i}]=O\")\n",
    "plt.scatter([p[0] for p in points], [p[1] for p in points])"
   ]
  },
  {
   "cell_type": "markdown",
   "metadata": {},
   "source": [
    "## Zadanie 4 (1 pkt)"
   ]
  },
  {
   "cell_type": "markdown",
   "metadata": {},
   "source": [
    "Sprawdź numerycznie, korzystając z funkcji $gen()$, twierdzenie Hassego. Sprawdź, że ze wzrostem liczby pierwszej $p$ dla krzywej o parametrach $a=-1$, $b=0$ liczba punktów na krzywej podąża za oszacowaniem $p+1-2\\sqrt{p}\\leq\\#E\\leq p+1+2\\sqrt{p}$. Narysuj wykres $\\#E(p)$ i proste o równaniach $p+1-2\\sqrt{p}$ oraz $p+1+2\\sqrt{p}$.\n",
    "\n",
    "Uwaga: Możesz wygenerować liczby pierwsze, np. w zakresie od 0 do 1000, za pomocą:"
   ]
  },
  {
   "cell_type": "code",
   "execution_count": 32,
   "metadata": {},
   "outputs": [
    {
     "data": {
      "text/plain": [
       "<matplotlib.collections.PathCollection at 0x23b92897dc0>"
      ]
     },
     "execution_count": 32,
     "metadata": {},
     "output_type": "execute_result"
    },
    {
     "data": {
      "image/png": "[encoded data removed]",
      "text/plain": [
       "<Figure size 432x288 with 1 Axes>"
      ]
     },
     "metadata": {
      "needs_background": "light"
     },
     "output_type": "display_data"
    }
   ],
   "source": [
    "from sympy import primerange\n",
    "prime_numbers = list(primerange(0,1000))\n",
    "a = -1\n",
    "b = 0\n",
    "points = []\n",
    "lower_bound = []\n",
    "upper_bound = []\n",
    "for p in prime_numbers:\n",
    "    points.append(len(gen(a,b,p)))\n",
    "    lower_bound.append(p+1-2*math.sqrt(p))\n",
    "    upper_bound.append(p+1+2*math.sqrt(p))\n",
    "    \n",
    "plt.plot(prime_numbers, lower_bound)\n",
    "plt.plot(prime_numbers, upper_bound)\n",
    "plt.scatter(prime_numbers, points, color = 'black')"
   ]
  },
  {
   "cell_type": "markdown",
   "metadata": {},
   "source": [
    "lub jakkolwiek inaczej."
   ]
  },
  {
   "cell_type": "markdown",
   "metadata": {},
   "source": [
    "## Zadanie 5 (2 pkt.)"
   ]
  },
  {
   "cell_type": "markdown",
   "metadata": {},
   "source": [
    "Napisz funkcję $ord(G,a,p)$ znajdującą rząd punktu $G$ na krzywej o parametrach $a$, $p$ (oznaczenia jak w poprzednich zadaniach). Rząd elementu to $n$ takie, że $nG=\\mathcal{O}$. Znajdź punkt na krzywej o parametrach $a=-1$,$b=0$,$p=97$ o największym rzędzie, moze ich być więcej niż jeden, wybierz którykolwiek."
   ]
  },
  {
   "cell_type": "code",
   "execution_count": 82,
   "metadata": {},
   "outputs": [],
   "source": [
    "def ord(G,a,p):\n",
    "    order = 0\n",
    "    while(True):\n",
    "        point = multiply(order, G, a, p)\n",
    "        if np.isnan(point[0]) or np.isnan(point[1]):\n",
    "            print(point)\n",
    "            print(order)\n",
    "            break\n",
    "        order+=1\n",
    "    return  order"
   ]
  },
  {
   "cell_type": "code",
   "execution_count": 83,
   "metadata": {},
   "outputs": [
    {
     "name": "stdout",
     "output_type": "stream",
     "text": [
      "[nan, nan]\n",
      "20\n",
      "20\n"
     ]
    }
   ],
   "source": []
  },
  {
   "cell_type": "code",
   "execution_count": 53,
   "metadata": {},
   "outputs": [
    {
     "name": "stdout",
     "output_type": "stream",
     "text": [
      "True\n",
      "True\n",
      "True\n",
      "True\n",
      "True\n",
      "True\n"
     ]
    }
   ],
   "source": [
    "print(ord([4,4],-1,11)==3)\n",
    "print(ord([8,8],-1,11)==6)\n",
    "print(ord([3,2],-1,7)==3)\n",
    "print(ord([3,5],-1,7)==3)\n",
    "print(ord([3,2],0,5)==3)\n",
    "print(ord([0,0],0,5)==2)"
   ]
  },
  {
   "cell_type": "code",
   "execution_count": 55,
   "metadata": {},
   "outputs": [
    {
     "name": "stdout",
     "output_type": "stream",
     "text": [
      "point: [91, 88], order: 20\n"
     ]
    }
   ],
   "source": [
    "a=-1\n",
    "b=0\n",
    "p=97\n",
    "points = gen(a,b,p)\n",
    "max_ord = 0\n",
    "for point in points:\n",
    "    curr_ord = ord(point,a,p)\n",
    "    if(curr_ord>=max_ord):\n",
    "        max_ord=curr_ord\n",
    "        result = point\n",
    "        \n",
    "print(\"point: {}, order: {}\".format(result,max_ord))"
   ]
  },
  {
   "cell_type": "markdown",
   "metadata": {},
   "source": [
    "## Zadanie 6 (1 pkt)"
   ]
  },
  {
   "cell_type": "markdown",
   "metadata": {},
   "source": [
    "Prześledź działanie protokołu Diffiego-Helmana, jednak tym razem opertego o krzywe eliptyczne, i uzupełnij poszczególne kroki.\n",
    "\n",
    "Alicja i Bob ustalają publicznie krzywą eliptyczą (czyli parametry $a$,$b$,$p$) w której będą działać oraz punkt na tej krzywej $G$. Weź krzywą z poprzedniego zadania oraz znaleziony w nim punkt."
   ]
  },
  {
   "cell_type": "code",
   "execution_count": 56,
   "metadata": {},
   "outputs": [],
   "source": [
    "a = -1\n",
    "b = 0\n",
    "G = [91,88]\n",
    "p = 97"
   ]
  },
  {
   "cell_type": "markdown",
   "metadata": {},
   "source": [
    "Alicja wybiera losową liczbę naturalną $n$ z przedziału $[2,\\#E-1]$, $\\#E$ to liczba punktów na krzywej:"
   ]
  },
  {
   "cell_type": "code",
   "execution_count": 85,
   "metadata": {},
   "outputs": [
    {
     "name": "stdout",
     "output_type": "stream",
     "text": [
      "43\n"
     ]
    }
   ],
   "source": [
    "E=len(gen(a,b,p))\n",
    "n = random.randint(2,E-1)\n",
    "print(n)"
   ]
  },
  {
   "cell_type": "markdown",
   "metadata": {},
   "source": [
    "Następnie oblicza $A=nG$ zgodnie z zasadami mnożenia punktów na krzywej przez liczbe naturalną:"
   ]
  },
  {
   "cell_type": "code",
   "execution_count": 87,
   "metadata": {},
   "outputs": [
    {
     "name": "stdout",
     "output_type": "stream",
     "text": [
      "[27, 16]\n"
     ]
    }
   ],
   "source": [
    "A=multiply(n,G,a,p)\n",
    "print(A)"
   ]
  },
  {
   "cell_type": "markdown",
   "metadata": {},
   "source": [
    "To samo robi Bob, wybiera losową liczbę naturalną $m$ i oblicza $B=mG$:"
   ]
  },
  {
   "cell_type": "code",
   "execution_count": 89,
   "metadata": {},
   "outputs": [
    {
     "name": "stdout",
     "output_type": "stream",
     "text": [
      "2\n",
      "[65, 70]\n"
     ]
    }
   ],
   "source": [
    "m=random.randint(2,E-1)\n",
    "B=multiply(m,G,a,p)\n",
    "print(m)\n",
    "print(B)"
   ]
  },
  {
   "cell_type": "markdown",
   "metadata": {},
   "source": [
    "Liczby $n$ i $m$ są znane tylko, odpowiednio, Alicji i Bobowi, natomiast $A$ oraz $B$ są wymieniane publicznym kanałem. Bob otrzymuje $A$ i wykonuje operację $k_B=mA$, z kolei Alicja otrzymuje $B$ i wykonuje operację $k_A=nB$:"
   ]
  },
  {
   "cell_type": "code",
   "execution_count": 90,
   "metadata": {},
   "outputs": [],
   "source": [
    "k_B=multiply(m,A,a,p)\n",
    "k_A=multiply(n,B,a,p)"
   ]
  },
  {
   "cell_type": "code",
   "execution_count": 91,
   "metadata": {},
   "outputs": [
    {
     "data": {
      "text/plain": [
       "True"
      ]
     },
     "execution_count": 91,
     "metadata": {},
     "output_type": "execute_result"
    }
   ],
   "source": [
    "k_A==k_B"
   ]
  },
  {
   "cell_type": "markdown",
   "metadata": {},
   "source": [
    "Zawuażmy, że $k_A=k_B$, wynika to z tego, że $k_A=nB=nmG$ oraz $k_B=mA=mnG$ a oczywiście $nm=mn$. Zatem Alicja i Bob dysponują tą samą liczbą, którą mogą użyć jako klucz do szyfrowania. Publicznie znane są wartości $a$, $b$, $p$, $G$, $nG$ oraz $mG$, jednak odzyskanie z nich $n$ i $m$ jest bardzo trudne przy odpwiednim doborze krzywej i punktu na niej."
   ]
  }
 ],
 "metadata": {
  "kernelspec": {
   "display_name": "Python 3 (ipykernel)",
   "language": "python",
   "name": "python3"
  },
  "language_info": {
   "codemirror_mode": {
    "name": "ipython",
    "version": 3
   },
   "file_extension": ".py",
   "mimetype": "text/x-python",
   "name": "python",
   "nbconvert_exporter": "python",
   "pygments_lexer": "ipython3",
   "version": "3.8.12"
  }
 },
 "nbformat": 4,
 "nbformat_minor": 4
}
